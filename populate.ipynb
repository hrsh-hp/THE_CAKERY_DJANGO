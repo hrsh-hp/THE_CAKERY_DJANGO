{
 "cells": [
  {
   "cell_type": "code",
   "execution_count": 1,
   "metadata": {},
   "outputs": [],
   "source": [
    "import json\n",
    "import os\n",
    "import django\n",
    "import sys\n",
    "sys.path.append('..')\n",
    "os.environ.setdefault('DJANGO_SETTINGS_MODULE', 'cakery.settings')\n",
    "os.environ[\"DJANGO_ALLOW_ASYNC_UNSAFE\"] = \"true\"\n",
    "os.environ.setdefault('DJANGO_SETTINGS_MODULE', 'cakery.settings')\n",
    "django.setup()"
   ]
  },
  {
   "cell_type": "code",
   "execution_count": 9,
   "metadata": {},
   "outputs": [],
   "source": [
    "from cakes.models import Topping, CakeSponge,CakeExtra\n",
    "\n",
    "toppings = [\n",
    "    {\"name\": \"Sprinkles\", \"price\": 40},\n",
    "    {\"name\": \"Choco chips\", \"price\": 80},\n",
    "    {\"name\": \"Fresh fruit\", \"price\": 60},\n",
    "    {\"name\": \"Tooty fruity\", \"price\": 50},\n",
    "    {\"name\": \"Almonds and nuts\", \"price\": 60}\n",
    "]\n",
    "\n",
    "sponges = [\n",
    "    {\"name\": \"Vanilla\", \"price\": 70},\n",
    "    {\"name\": \"Chocolate\", \"price\": 100},\n",
    "    {\"name\": \"Strawberry\", \"price\": 80},\n",
    "    {\"name\": \"Pineapple\", \"price\": 80},\n",
    "    {\"name\": \"Orange\", \"price\": 80},\n",
    "    {\"name\": \"Mixed fruit\", \"price\": 80},\n",
    "    {\"name\": \"Red velvet\", \"price\": 80}\n",
    "]\n",
    "\n",
    "extras = {\n",
    "    \"fillings\": [\n",
    "        {\"name\": \"Premium quality whipping cream\", \"price\": 100},\n",
    "        {\"name\": \"Melted Chocolate\", \"price\": 70},\n",
    "        {\"name\": \"Ganache\", \"price\": 100},\n",
    "        {\"name\": \"Chocochips\", \"price\": 80},\n",
    "        {\"name\": \"Strawberry crush\", \"price\": 70},\n",
    "        {\"name\": \"Pineapple crush\", \"price\": 70},\n",
    "        {\"name\": \"Orange crush\", \"price\": 70},\n",
    "        {\"name\": \"Mango crush\", \"price\": 70},\n",
    "        {\"name\": \"Fresh fruit\", \"price\": 100, \"note\": \"Specify choice of fruits\"},\n",
    "    ],\n",
    "    \"candles\": [\n",
    "        {\"name\": \"Normal\", \"price\": 30, \"quantity\": \"5 pieces\"},\n",
    "        {\"name\": \"Number candle\", \"price\": 30, \"quantity\": \"1 piece\", \"note\": \"Specify number\"},\n",
    "        {\"name\": \"Trending candle\", \"price\": 60, \"quantity\": \"2 pieces\"}\n",
    "    ],\n",
    "    \"colors\": [\n",
    "        {\"name\": \"Pink\", \"price\": 20},\n",
    "        {\"name\": \"Red\", \"price\": 20},\n",
    "        {\"name\": \"Black\", \"price\": 20},\n",
    "        {\"name\": \"Purple\", \"price\": 20},\n",
    "        {\"name\": \"Yellow\", \"price\": 20},\n",
    "        {\"name\": \"Orange\", \"price\": 20},\n",
    "        {\"name\": \"Blue\", \"price\": 20},\n",
    "        {\"name\": \"Brown\", \"price\": 20},\n",
    "        {\"name\": \"Green\", \"price\": 20}\n",
    "    ],\n",
    "    \"decorations\": [\n",
    "        {\"name\": \"Custom designs\", \"price\": 70},\n",
    "        {\"name\": \"Theme Cake topper\", \"price\": 100},\n",
    "        {\"name\": \"Fondant decoration\", \"price\": 160},\n",
    "        {\"name\": \"Edible print\", \"price\": 120}\n",
    "    ],\n",
    "    \"packaging\": [\n",
    "        {\"name\": \"Boxes\", \"price\": 20},\n",
    "        {\"name\": \"Cake base\", \"price\": 10},\n",
    "        {\"name\": \"Ribbon\", \"price\": 20}\n",
    "    ]\n",
    "}"
   ]
  },
  {
   "cell_type": "code",
   "execution_count": 10,
   "metadata": {},
   "outputs": [
    {
     "name": "stdout",
     "output_type": "stream",
     "text": [
      "Data inserted successfully!\n"
     ]
    }
   ],
   "source": [
    "for topping in toppings:\n",
    "    Topping.objects.get_or_create(name=topping[\"name\"], defaults={\"price\": topping[\"price\"]})\n",
    "\n",
    "# Insert sponges\n",
    "for sponge in sponges:\n",
    "    CakeSponge.objects.get_or_create(sponge=sponge[\"name\"], defaults={\"price\": sponge[\"price\"]})\n",
    "\n",
    "# Insert extras\n",
    "for category, items in extras.items():\n",
    "    for item in items:\n",
    "        CakeExtra.objects.get_or_create(\n",
    "            name=item[\"name\"],\n",
    "            category=category,\n",
    "            defaults={\n",
    "                \"price\": item.get(\"price\"),\n",
    "            }\n",
    "        )\n",
    "\n",
    "print(\"Data inserted successfully!\")\n"
   ]
  }
 ],
 "metadata": {
  "kernelspec": {
   "display_name": "cakeenv",
   "language": "python",
   "name": "python3"
  },
  "language_info": {
   "codemirror_mode": {
    "name": "ipython",
    "version": 3
   },
   "file_extension": ".py",
   "mimetype": "text/x-python",
   "name": "python",
   "nbconvert_exporter": "python",
   "pygments_lexer": "ipython3",
   "version": "3.12.3"
  }
 },
 "nbformat": 4,
 "nbformat_minor": 2
}
